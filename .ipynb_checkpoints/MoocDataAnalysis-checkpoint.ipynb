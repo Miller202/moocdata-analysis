{
 "cells": [
  {
   "cell_type": "markdown",
   "id": "1f197eba",
   "metadata": {},
   "source": [
    "# Análise das interações dos estudantes em um MOOC"
   ]
  },
  {
   "cell_type": "code",
   "execution_count": 1,
   "id": "9ad8cedd",
   "metadata": {},
   "outputs": [
    {
     "name": "stderr",
     "output_type": "stream",
     "text": [
      "\n",
      "[notice] A new release of pip is available: 23.0.1 -> 23.1.2\n",
      "[notice] To update, run: python.exe -m pip install --upgrade pip\n"
     ]
    },
    {
     "name": "stdout",
     "output_type": "stream",
     "text": [
      "Requirement already satisfied: pyspark in c:\\users\\noteb\\appdata\\local\\programs\\python\\python310\\lib\\site-packages (3.4.0)\n",
      "Requirement already satisfied: py4j==0.10.9.7 in c:\\users\\noteb\\appdata\\local\\programs\\python\\python310\\lib\\site-packages (from pyspark) (0.10.9.7)\n"
     ]
    }
   ],
   "source": [
    "!pip install pyspark"
   ]
  },
  {
   "cell_type": "code",
   "execution_count": 40,
   "id": "329fd086",
   "metadata": {},
   "outputs": [
    {
     "name": "stdout",
     "output_type": "stream",
     "text": [
      "Collecting pandas\n",
      "  Downloading pandas-2.0.2-cp310-cp310-win_amd64.whl (10.7 MB)\n",
      "     ---------------------------------------- 0.0/10.7 MB ? eta -:--:--\n",
      "      --------------------------------------- 0.2/10.7 MB 3.1 MB/s eta 0:00:04\n",
      "     - -------------------------------------- 0.5/10.7 MB 5.4 MB/s eta 0:00:02\n",
      "     ---- ----------------------------------- 1.2/10.7 MB 9.7 MB/s eta 0:00:01\n",
      "     -------- ------------------------------- 2.2/10.7 MB 11.9 MB/s eta 0:00:01\n",
      "     ------------ --------------------------- 3.3/10.7 MB 14.2 MB/s eta 0:00:01\n",
      "     ----------------- ---------------------- 4.7/10.7 MB 16.8 MB/s eta 0:00:01\n",
      "     ---------------------- ----------------- 5.9/10.7 MB 18.0 MB/s eta 0:00:01\n",
      "     ------------------------- -------------- 6.9/10.7 MB 19.1 MB/s eta 0:00:01\n",
      "     ------------------------------ --------- 8.1/10.7 MB 19.1 MB/s eta 0:00:01\n",
      "     ---------------------------------- ----- 9.2/10.7 MB 19.6 MB/s eta 0:00:01\n",
      "     ------------------------------------ -- 10.0/10.7 MB 20.0 MB/s eta 0:00:01\n",
      "     --------------------------------------  10.6/10.7 MB 21.8 MB/s eta 0:00:01\n",
      "     --------------------------------------- 10.7/10.7 MB 20.5 MB/s eta 0:00:00\n",
      "Collecting numpy>=1.21.0\n",
      "  Downloading numpy-1.24.3-cp310-cp310-win_amd64.whl (14.8 MB)\n",
      "     ---------------------------------------- 0.0/14.8 MB ? eta -:--:--\n",
      "     -- ------------------------------------- 0.9/14.8 MB 28.5 MB/s eta 0:00:01\n",
      "     ----- ---------------------------------- 1.9/14.8 MB 24.5 MB/s eta 0:00:01\n",
      "     -------- ------------------------------- 3.1/14.8 MB 24.3 MB/s eta 0:00:01\n",
      "     ----------- ---------------------------- 4.2/14.8 MB 24.1 MB/s eta 0:00:01\n",
      "     ------------- -------------------------- 5.1/14.8 MB 24.8 MB/s eta 0:00:01\n",
      "     --------------- ------------------------ 5.7/14.8 MB 22.9 MB/s eta 0:00:01\n",
      "     ----------------- ---------------------- 6.6/14.8 MB 21.2 MB/s eta 0:00:01\n",
      "     --------------------- ------------------ 7.9/14.8 MB 22.0 MB/s eta 0:00:01\n",
      "     ----------------------- ---------------- 8.8/14.8 MB 22.6 MB/s eta 0:00:01\n",
      "     ----------------------- ---------------- 8.8/14.8 MB 22.6 MB/s eta 0:00:01\n",
      "     ---------------------------- ---------- 10.9/14.8 MB 21.1 MB/s eta 0:00:01\n",
      "     ------------------------------ -------- 11.7/14.8 MB 20.5 MB/s eta 0:00:01\n",
      "     ---------------------------------- ---- 13.0/14.8 MB 21.1 MB/s eta 0:00:01\n",
      "     ------------------------------------ -- 14.1/14.8 MB 21.1 MB/s eta 0:00:01\n",
      "     --------------------------------------  14.8/14.8 MB 21.1 MB/s eta 0:00:01\n",
      "     --------------------------------------- 14.8/14.8 MB 19.3 MB/s eta 0:00:00\n",
      "Collecting tzdata>=2022.1\n",
      "  Downloading tzdata-2023.3-py2.py3-none-any.whl (341 kB)\n",
      "     ---------------------------------------- 0.0/341.8 kB ? eta -:--:--\n",
      "     ------------------------------------- 341.8/341.8 kB 22.1 MB/s eta 0:00:00\n",
      "Collecting pytz>=2020.1\n",
      "  Downloading pytz-2023.3-py2.py3-none-any.whl (502 kB)\n",
      "     ---------------------------------------- 0.0/502.3 kB ? eta -:--:--\n",
      "     ------------------------------------- 502.3/502.3 kB 32.8 MB/s eta 0:00:00\n",
      "Requirement already satisfied: python-dateutil>=2.8.2 in c:\\users\\noteb\\appdata\\local\\programs\\python\\python310\\lib\\site-packages (from pandas) (2.8.2)\n",
      "Requirement already satisfied: six>=1.5 in c:\\users\\noteb\\appdata\\local\\programs\\python\\python310\\lib\\site-packages (from python-dateutil>=2.8.2->pandas) (1.16.0)\n",
      "Installing collected packages: pytz, tzdata, numpy, pandas\n",
      "Successfully installed numpy-1.24.3 pandas-2.0.2 pytz-2023.3 tzdata-2023.3\n"
     ]
    },
    {
     "name": "stderr",
     "output_type": "stream",
     "text": [
      "\n",
      "[notice] A new release of pip is available: 23.0.1 -> 23.1.2\n",
      "[notice] To update, run: python.exe -m pip install --upgrade pip\n"
     ]
    }
   ],
   "source": [
    "!pip install pandas"
   ]
  },
  {
   "cell_type": "code",
   "execution_count": 43,
   "id": "f0eca91b",
   "metadata": {},
   "outputs": [
    {
     "name": "stdout",
     "output_type": "stream",
     "text": [
      "Collecting matplotlib\n",
      "  Downloading matplotlib-3.7.1-cp310-cp310-win_amd64.whl (7.6 MB)\n",
      "     ---------------------------------------- 0.0/7.6 MB ? eta -:--:--\n",
      "      --------------------------------------- 0.1/7.6 MB 2.2 MB/s eta 0:00:04\n",
      "     -- ------------------------------------- 0.5/7.6 MB 5.0 MB/s eta 0:00:02\n",
      "     ----- ---------------------------------- 1.1/7.6 MB 8.8 MB/s eta 0:00:01\n",
      "     ---------- ----------------------------- 2.1/7.6 MB 11.1 MB/s eta 0:00:01\n",
      "     -------------- ------------------------- 2.9/7.6 MB 12.2 MB/s eta 0:00:01\n",
      "     --------------------- ------------------ 4.2/7.6 MB 15.6 MB/s eta 0:00:01\n",
      "     --------------------------- ------------ 5.3/7.6 MB 16.8 MB/s eta 0:00:01\n",
      "     ---------------------------------- ----- 6.6/7.6 MB 18.4 MB/s eta 0:00:01\n",
      "     ---------------------------------------  7.6/7.6 MB 18.7 MB/s eta 0:00:01\n",
      "     ---------------------------------------- 7.6/7.6 MB 18.0 MB/s eta 0:00:00\n",
      "Collecting pyparsing>=2.3.1\n",
      "  Downloading pyparsing-3.0.9-py3-none-any.whl (98 kB)\n",
      "     ---------------------------------------- 0.0/98.3 kB ? eta -:--:--\n",
      "     ---------------------------------------- 98.3/98.3 kB ? eta 0:00:00\n",
      "Collecting cycler>=0.10\n",
      "  Downloading cycler-0.11.0-py3-none-any.whl (6.4 kB)\n",
      "Collecting kiwisolver>=1.0.1\n",
      "  Downloading kiwisolver-1.4.4-cp310-cp310-win_amd64.whl (55 kB)\n",
      "     ---------------------------------------- 0.0/55.3 kB ? eta -:--:--\n",
      "     ---------------------------------------- 55.3/55.3 kB ? eta 0:00:00\n",
      "Collecting fonttools>=4.22.0\n",
      "  Downloading fonttools-4.39.4-py3-none-any.whl (1.0 MB)\n",
      "     ---------------------------------------- 0.0/1.0 MB ? eta -:--:--\n",
      "     ---------------------------------------  1.0/1.0 MB 31.0 MB/s eta 0:00:01\n",
      "     ---------------------------------------- 1.0/1.0 MB 31.3 MB/s eta 0:00:00\n",
      "Requirement already satisfied: packaging>=20.0 in c:\\users\\noteb\\appdata\\local\\programs\\python\\python310\\lib\\site-packages (from matplotlib) (23.1)\n",
      "Collecting pillow>=6.2.0\n",
      "  Downloading Pillow-9.5.0-cp310-cp310-win_amd64.whl (2.5 MB)\n",
      "     ---------------------------------------- 0.0/2.5 MB ? eta -:--:--\n",
      "     ---------------- ----------------------- 1.1/2.5 MB 34.0 MB/s eta 0:00:01\n",
      "     ---------------------------------- ----- 2.2/2.5 MB 27.8 MB/s eta 0:00:01\n",
      "     ---------------------------------------- 2.5/2.5 MB 26.6 MB/s eta 0:00:00\n",
      "Collecting contourpy>=1.0.1\n",
      "  Downloading contourpy-1.0.7-cp310-cp310-win_amd64.whl (162 kB)\n",
      "     ---------------------------------------- 0.0/163.0 kB ? eta -:--:--\n",
      "     -------------------------------------- 163.0/163.0 kB 9.5 MB/s eta 0:00:00\n",
      "Requirement already satisfied: numpy>=1.20 in c:\\users\\noteb\\appdata\\local\\programs\\python\\python310\\lib\\site-packages (from matplotlib) (1.24.3)\n",
      "Requirement already satisfied: python-dateutil>=2.7 in c:\\users\\noteb\\appdata\\local\\programs\\python\\python310\\lib\\site-packages (from matplotlib) (2.8.2)\n",
      "Requirement already satisfied: six>=1.5 in c:\\users\\noteb\\appdata\\local\\programs\\python\\python310\\lib\\site-packages (from python-dateutil>=2.7->matplotlib) (1.16.0)\n",
      "Installing collected packages: pyparsing, pillow, kiwisolver, fonttools, cycler, contourpy, matplotlib\n",
      "Successfully installed contourpy-1.0.7 cycler-0.11.0 fonttools-4.39.4 kiwisolver-1.4.4 matplotlib-3.7.1 pillow-9.5.0 pyparsing-3.0.9\n"
     ]
    },
    {
     "name": "stderr",
     "output_type": "stream",
     "text": [
      "\n",
      "[notice] A new release of pip is available: 23.0.1 -> 23.1.2\n",
      "[notice] To update, run: python.exe -m pip install --upgrade pip\n"
     ]
    }
   ],
   "source": [
    "!pip install matplotlib"
   ]
  },
  {
   "cell_type": "code",
   "execution_count": 2,
   "id": "237bb9a6",
   "metadata": {},
   "outputs": [],
   "source": [
    "from pyspark.sql import SparkSession\n",
    "\n",
    "spark = SparkSession.builder.getOrCreate()"
   ]
  },
  {
   "cell_type": "markdown",
   "id": "22d605f5",
   "metadata": {},
   "source": [
    "## Coleta e processamento dos dados"
   ]
  },
  {
   "cell_type": "code",
   "execution_count": 16,
   "id": "c230372b",
   "metadata": {},
   "outputs": [],
   "source": [
    "# leitura dos dados\n",
    "# df_2015_1 = spark.read.json(\"C:/Users/mulle/downloads/data/20150801-20151101-raw_user_activity.json\")\n",
    "# df_2015_2 = spark.read.option(\"multiline\",\"true\").json(\"C:/Users/mulle/downloads/data/20151101-20160201-raw_user_activity.json\")\n",
    "# df_2016_1 = spark.read.option(\"multiline\",\"true\").json(\"C:/Users/mulle/downloads/data/20160201-20160501-raw_user_activity.json\")"
   ]
  },
  {
   "cell_type": "code",
   "execution_count": 17,
   "id": "2a755c6c",
   "metadata": {},
   "outputs": [],
   "source": [
    "# df_2016_2 = spark.read.option(\"multiline\",\"true\").json(\"C:/Users/mulle/downloads/data/20160501-20160801-raw_user_activity.json\")\n",
    "# df_2016_3 = spark.read.option(\"multiline\",\"true\").json(\"C:/Users/mulle/downloads/data/20160801-20170201-raw_user_activity.json\")\n",
    "# df_2017_1 = spark.read.option(\"multiline\",\"true\").json(\"C:/Users/mulle/downloads/data/20170201-20170801-raw_user_activity.json\")"
   ]
  },
  {
   "cell_type": "code",
   "execution_count": 25,
   "id": "27d085e1",
   "metadata": {},
   "outputs": [],
   "source": [
    "df_train = spark.read.csv('data/train_log.csv', header=False)\n",
    "df_train = df_train.withColumnRenamed(\"_c0\", \"enroll_id\")\n",
    "df_train = df_train.withColumnRenamed(\"_c1\", \"username\")\n",
    "df_train = df_train.withColumnRenamed(\"_c2\", \"course_id\")\n",
    "df_train = df_train.withColumnRenamed(\"_c3\", \"session_id\")\n",
    "df_train = df_train.withColumnRenamed(\"_c4\", \"action\")\n",
    "df_train = df_train.withColumnRenamed(\"_c5\", \"object\")\n",
    "df_train = df_train.withColumnRenamed(\"_c6\", \"time\")\n",
    "df_train = df_train.where(df_train.username != 'username')\n",
    "\n",
    "df_test = spark.read.csv('data/test_log.csv', header=False)\n",
    "df_test = df_test.withColumnRenamed(\"_c0\", \"enroll_id\")\n",
    "df_test = df_test.withColumnRenamed(\"_c1\", \"username\")\n",
    "df_test = df_test.withColumnRenamed(\"_c2\", \"course_id\")\n",
    "df_test = df_test.withColumnRenamed(\"_c3\", \"session_id\")\n",
    "df_test = df_test.withColumnRenamed(\"_c4\", \"action\")\n",
    "df_test = df_test.withColumnRenamed(\"_c5\", \"object\")\n",
    "df_test = df_test.withColumnRenamed(\"_c6\", \"time\")\n",
    "df_test = df_test.where(df_test.username != 'username')"
   ]
  },
  {
   "cell_type": "code",
   "execution_count": 26,
   "id": "9caedf90",
   "metadata": {},
   "outputs": [
    {
     "name": "stdout",
     "output_type": "stream",
     "text": [
      "+---------+--------+--------------------+--------------------+-----------+--------------------+-------------------+\n",
      "|enroll_id|username|           course_id|          session_id|     action|              object|               time|\n",
      "+---------+--------+--------------------+--------------------+-----------+--------------------+-------------------+\n",
      "|      772|    5981|course-v1:Tsinghu...|d8a9b787fa69063c3...|click_about|                null|2015-09-27T15:42:59|\n",
      "|      772|    5981|course-v1:Tsinghu...|d8a9b787fa69063c3...| click_info|                null|2015-09-27T15:43:12|\n",
      "|      773| 1544995|course-v1:Tsinghu...|2f02b86eb3ea2cbf0...|pause_video|3dac5590435e43b3a...|2015-10-19T19:37:42|\n",
      "|      773| 1544995|course-v1:Tsinghu...|2f02b86eb3ea2cbf0...| load_video|3dac5590435e43b3a...|2015-10-19T19:33:27|\n",
      "|      773| 1544995|course-v1:Tsinghu...|2f02b86eb3ea2cbf0...| play_video|3dac5590435e43b3a...|2015-10-19T19:33:30|\n",
      "+---------+--------+--------------------+--------------------+-----------+--------------------+-------------------+\n",
      "only showing top 5 rows\n",
      "\n"
     ]
    }
   ],
   "source": [
    "df_train.show(n=5)"
   ]
  },
  {
   "cell_type": "code",
   "execution_count": 27,
   "id": "2dc50a96",
   "metadata": {},
   "outputs": [
    {
     "name": "stdout",
     "output_type": "stream",
     "text": [
      "(29165540, 7)\n"
     ]
    }
   ],
   "source": [
    "print((df_train.count(), len(df_train.columns)))"
   ]
  },
  {
   "cell_type": "code",
   "execution_count": 28,
   "id": "b6593b6e",
   "metadata": {},
   "outputs": [
    {
     "name": "stdout",
     "output_type": "stream",
     "text": [
      "+---------+--------+--------------------+--------------------+-----------+--------------------+-------------------+\n",
      "|enroll_id|username|           course_id|          session_id|     action|              object|               time|\n",
      "+---------+--------+--------------------+--------------------+-----------+--------------------+-------------------+\n",
      "|      775| 1520977|course-v1:Tsinghu...|5f421f644193c2d48...| load_video|3dac5590435e43b3a...|2015-10-15T22:14:11|\n",
      "|      775| 1520977|course-v1:Tsinghu...|5f421f644193c2d48...| load_video|3169d758ee2d4262b...|2015-10-15T22:43:35|\n",
      "|      775| 1520977|course-v1:Tsinghu...|5f421f644193c2d48...| play_video|3169d758ee2d4262b...|2015-10-15T22:43:40|\n",
      "|      775| 1520977|course-v1:Tsinghu...|5f421f644193c2d48...|pause_video|3169d758ee2d4262b...|2015-10-15T22:55:38|\n",
      "|      775| 1520977|course-v1:Tsinghu...|5f421f644193c2d48...| stop_video|3169d758ee2d4262b...|2015-10-15T22:55:38|\n",
      "+---------+--------+--------------------+--------------------+-----------+--------------------+-------------------+\n",
      "only showing top 5 rows\n",
      "\n"
     ]
    }
   ],
   "source": [
    "df_test.show(n=5)"
   ]
  },
  {
   "cell_type": "code",
   "execution_count": 29,
   "id": "4bd28343",
   "metadata": {},
   "outputs": [
    {
     "name": "stdout",
     "output_type": "stream",
     "text": [
      "(12944862, 7)\n"
     ]
    }
   ],
   "source": [
    "print((df_test.count(), len(df_test.columns)))"
   ]
  },
  {
   "cell_type": "code",
   "execution_count": 33,
   "id": "80e92833",
   "metadata": {},
   "outputs": [],
   "source": [
    "df_combined = df_train.union(df_test)"
   ]
  },
  {
   "cell_type": "code",
   "execution_count": 34,
   "id": "4c661216",
   "metadata": {},
   "outputs": [
    {
     "name": "stdout",
     "output_type": "stream",
     "text": [
      "+---------+--------+--------------------+--------------------+-----------+--------------------+-------------------+\n",
      "|enroll_id|username|           course_id|          session_id|     action|              object|               time|\n",
      "+---------+--------+--------------------+--------------------+-----------+--------------------+-------------------+\n",
      "|      772|    5981|course-v1:Tsinghu...|d8a9b787fa69063c3...|click_about|                null|2015-09-27T15:42:59|\n",
      "|      772|    5981|course-v1:Tsinghu...|d8a9b787fa69063c3...| click_info|                null|2015-09-27T15:43:12|\n",
      "|      773| 1544995|course-v1:Tsinghu...|2f02b86eb3ea2cbf0...|pause_video|3dac5590435e43b3a...|2015-10-19T19:37:42|\n",
      "|      773| 1544995|course-v1:Tsinghu...|2f02b86eb3ea2cbf0...| load_video|3dac5590435e43b3a...|2015-10-19T19:33:27|\n",
      "|      773| 1544995|course-v1:Tsinghu...|2f02b86eb3ea2cbf0...| play_video|3dac5590435e43b3a...|2015-10-19T19:33:30|\n",
      "|      773| 1544995|course-v1:Tsinghu...|2f02b86eb3ea2cbf0...|pause_video|3dac5590435e43b3a...|2015-10-19T19:34:59|\n",
      "|      773| 1544995|course-v1:Tsinghu...|2f02b86eb3ea2cbf0...| play_video|3dac5590435e43b3a...|2015-10-19T19:35:09|\n",
      "|      773| 1544995|course-v1:Tsinghu...|2f02b86eb3ea2cbf0...|pause_video|3dac5590435e43b3a...|2015-10-19T19:37:34|\n",
      "|      773| 1544995|course-v1:Tsinghu...|2f02b86eb3ea2cbf0...| play_video|3dac5590435e43b3a...|2015-10-19T19:37:38|\n",
      "|      773| 1544995|course-v1:Tsinghu...|2f02b86eb3ea2cbf0...| play_video|3dac5590435e43b3a...|2015-10-19T19:38:17|\n",
      "+---------+--------+--------------------+--------------------+-----------+--------------------+-------------------+\n",
      "only showing top 10 rows\n",
      "\n"
     ]
    }
   ],
   "source": [
    "df_combined.show(n=10)"
   ]
  },
  {
   "cell_type": "code",
   "execution_count": 35,
   "id": "2a55a306",
   "metadata": {},
   "outputs": [
    {
     "name": "stdout",
     "output_type": "stream",
     "text": [
      "(42110402, 7)\n"
     ]
    }
   ],
   "source": [
    "print((df_combined.count(), len(df_combined.columns)))"
   ]
  },
  {
   "cell_type": "code",
   "execution_count": 38,
   "id": "8484a6a2",
   "metadata": {},
   "outputs": [
    {
     "data": {
      "text/plain": [
       "[Row(action='close_courseware'),\n",
       " Row(action='play_video'),\n",
       " Row(action='click_about'),\n",
       " Row(action='click_forum'),\n",
       " Row(action='problem_check_incorrect'),\n",
       " Row(action='create_thread'),\n",
       " Row(action='seek_video'),\n",
       " Row(action='problem_check_correct'),\n",
       " Row(action='reset_problem'),\n",
       " Row(action='create_comment'),\n",
       " Row(action='load_video'),\n",
       " Row(action='problem_get'),\n",
       " Row(action='pause_video'),\n",
       " Row(action='delete_comment'),\n",
       " Row(action='problem_check'),\n",
       " Row(action='click_courseware'),\n",
       " Row(action='close_forum'),\n",
       " Row(action='stop_video'),\n",
       " Row(action='delete_thread'),\n",
       " Row(action='problem_save'),\n",
       " Row(action='click_progress'),\n",
       " Row(action='click_info')]"
      ]
     },
     "execution_count": 38,
     "metadata": {},
     "output_type": "execute_result"
    }
   ],
   "source": [
    "df_combined.select('action').distinct().collect()"
   ]
  },
  {
   "cell_type": "markdown",
   "id": "0e59e4f8",
   "metadata": {},
   "source": [
    "## Análise exploratória"
   ]
  },
  {
   "cell_type": "code",
   "execution_count": 44,
   "id": "7c428cdb",
   "metadata": {},
   "outputs": [],
   "source": [
    "import matplotlib as plt"
   ]
  },
  {
   "cell_type": "code",
   "execution_count": 48,
   "id": "0b2e4e59",
   "metadata": {},
   "outputs": [
    {
     "name": "stdout",
     "output_type": "stream",
     "text": [
      "+--------------------+-------+\n",
      "|              action|  count|\n",
      "+--------------------+-------+\n",
      "|          stop_video|8424429|\n",
      "|         pause_video|6017142|\n",
      "|    click_courseware|5685535|\n",
      "|          play_video|4895238|\n",
      "|         problem_get|3291858|\n",
      "|          load_video|3039857|\n",
      "|    close_courseware|2890604|\n",
      "|          seek_video|2574885|\n",
      "|       problem_check|1219175|\n",
      "|          click_info|1043535|\n",
      "|problem_check_cor...| 935239|\n",
      "|         click_about| 720867|\n",
      "|problem_check_inc...| 499470|\n",
      "|      click_progress| 282822|\n",
      "|         click_forum| 269136|\n",
      "|        problem_save| 241272|\n",
      "|      create_comment|  49958|\n",
      "|       reset_problem|  18464|\n",
      "|       create_thread|   9200|\n",
      "|      delete_comment|   1277|\n",
      "|       delete_thread|    434|\n",
      "|         close_forum|      5|\n",
      "+--------------------+-------+\n",
      "\n"
     ]
    }
   ],
   "source": [
    "df_combined.groupBy('action').count().orderBy('count', ascending=False).show(n=22)"
   ]
  },
  {
   "cell_type": "code",
   "execution_count": null,
   "id": "c543704e",
   "metadata": {},
   "outputs": [],
   "source": []
  }
 ],
 "metadata": {
  "kernelspec": {
   "display_name": "Python 3 (ipykernel)",
   "language": "python",
   "name": "python3"
  },
  "language_info": {
   "codemirror_mode": {
    "name": "ipython",
    "version": 3
   },
   "file_extension": ".py",
   "mimetype": "text/x-python",
   "name": "python",
   "nbconvert_exporter": "python",
   "pygments_lexer": "ipython3",
   "version": "3.10.11"
  }
 },
 "nbformat": 4,
 "nbformat_minor": 5
}
